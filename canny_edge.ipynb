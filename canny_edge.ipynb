{
  "nbformat": 4,
  "nbformat_minor": 0,
  "metadata": {
    "kernelspec": {
      "display_name": "Python 3",
      "language": "python",
      "name": "python3"
    },
    "language_info": {
      "codemirror_mode": {
        "name": "ipython",
        "version": 3
      },
      "file_extension": ".py",
      "mimetype": "text/x-python",
      "name": "python",
      "nbconvert_exporter": "python",
      "pygments_lexer": "ipython3",
      "version": "3.8.3"
    },
    "colab": {
      "name": "canny_edge.ipynb",
      "provenance": [],
      "collapsed_sections": []
    },
    "accelerator": "GPU"
  },
  "cells": [
    {
      "cell_type": "code",
      "metadata": {
        "id": "7GDW3C5D2qYo",
        "outputId": "366a6f03-cfab-4797-9524-c8266afc09ba",
        "colab": {
          "base_uri": "https://localhost:8080/",
          "height": 361
        }
      },
      "source": [
        "!pip3 uninstall cupy-cuda101\n",
        "!pip3 install cupy-cuda101"
      ],
      "execution_count": 14,
      "outputs": [
        {
          "output_type": "stream",
          "text": [
            "Uninstalling cupy-cuda101-7.4.0:\n",
            "  Would remove:\n",
            "    /usr/local/lib/python3.6/dist-packages/cupy/*\n",
            "    /usr/local/lib/python3.6/dist-packages/cupy_cuda101-7.4.0.dist-info/*\n",
            "    /usr/local/lib/python3.6/dist-packages/cupyx/*\n",
            "Proceed (y/n)? y\n",
            "  Successfully uninstalled cupy-cuda101-7.4.0\n",
            "Collecting cupy-cuda101\n",
            "\u001b[?25l  Downloading https://files.pythonhosted.org/packages/90/71/d4c177ec23fbd23422a3d7b5a43939f6a8d6b0be7fb3b0e58cdb1ff1af8f/cupy_cuda101-8.1.0-cp36-cp36m-manylinux1_x86_64.whl (115.5MB)\n",
            "\u001b[K     |████████████████████████████████| 115.5MB 89kB/s \n",
            "\u001b[?25hRequirement already satisfied: fastrlock>=0.3 in /usr/local/lib/python3.6/dist-packages (from cupy-cuda101) (0.5)\n",
            "Requirement already satisfied: numpy>=1.15 in /usr/local/lib/python3.6/dist-packages (from cupy-cuda101) (1.18.5)\n",
            "Installing collected packages: cupy-cuda101\n",
            "Successfully installed cupy-cuda101-8.1.0\n"
          ],
          "name": "stdout"
        },
        {
          "output_type": "display_data",
          "data": {
            "application/vnd.colab-display-data+json": {
              "pip_warning": {
                "packages": [
                  "cupy",
                  "cupyx"
                ]
              }
            }
          },
          "metadata": {
            "tags": []
          }
        }
      ]
    },
    {
      "cell_type": "code",
      "metadata": {
        "id": "sFZMHIWsYmTy",
        "outputId": "21e7b23e-8efc-413d-e881-0dbd6775e972",
        "colab": {
          "base_uri": "https://localhost:8080/"
        }
      },
      "source": [
        "from google.colab import drive\n",
        "drive.mount('/content/gdrive')"
      ],
      "execution_count": 1,
      "outputs": [
        {
          "output_type": "stream",
          "text": [
            "Mounted at /content/gdrive\n"
          ],
          "name": "stdout"
        }
      ]
    },
    {
      "cell_type": "code",
      "metadata": {
        "id": "uBzsQRWz4x7D",
        "outputId": "fde1822d-5d90-4f6b-a3ab-49413e3ea436",
        "colab": {
          "base_uri": "https://localhost:8080/"
        }
      },
      "source": [
        "%cd /content/gdrive/Shared\\ drives/CIS\\ 581\\ Final\\ Project/laneDetection"
      ],
      "execution_count": 1,
      "outputs": [
        {
          "output_type": "stream",
          "text": [
            "/content/gdrive/Shared drives/CIS 581 Final Project/laneDetection\n"
          ],
          "name": "stdout"
        }
      ]
    },
    {
      "cell_type": "code",
      "metadata": {
        "id": "2vAItZ0M6Ejg",
        "outputId": "2d0a5dc3-2af8-462d-8534-c2784acfdeb2",
        "colab": {
          "base_uri": "https://localhost:8080/"
        }
      },
      "source": [
        "!git pull"
      ],
      "execution_count": 2,
      "outputs": [
        {
          "output_type": "stream",
          "text": [
            "Already up to date.\n"
          ],
          "name": "stdout"
        }
      ]
    },
    {
      "cell_type": "markdown",
      "metadata": {
        "id": "nnAXN957ZkrO"
      },
      "source": [
        "# Interp2 (Helper Function)"
      ]
    },
    {
      "cell_type": "code",
      "metadata": {
        "id": "k7Y5xijnB1HT"
      },
      "source": [
        "import cupy as cp\n",
        "import numpy as np\n",
        "\n",
        "def interp2(v, xq, yq):\n",
        "\tdim_input = 1\n",
        "\tif len(xq.shape) == 2 or len(yq.shape) == 2:\n",
        "\t\tdim_input = 2\n",
        "\t\tq_h = xq.shape[0]\n",
        "\t\tq_w = xq.shape[1]\n",
        "\t\txq = xq.flatten()\n",
        "\t\tyq = yq.flatten()\n",
        "\n",
        "\th = v.shape[0]\n",
        "\tw = v.shape[1]\n",
        "\tif xq.shape != yq.shape:\n",
        "\t\traise 'query coordinates Xq Yq should have same shape'\n",
        "\n",
        "\tx_floor = cp.floor(xq).astype(cp.int32)\n",
        "\ty_floor = cp.floor(yq).astype(cp.int32)\n",
        "\tx_ceil = cp.ceil(xq).astype(cp.int32)\n",
        "\ty_ceil = cp.ceil(yq).astype(cp.int32)\n",
        "\n",
        "\tx_floor[x_floor < 0] = 0\n",
        "\ty_floor[y_floor < 0] = 0\n",
        "\tx_ceil[x_ceil < 0] = 0\n",
        "\ty_ceil[y_ceil < 0] = 0\n",
        "\n",
        "\tx_floor[x_floor >= w-1] = w-1\n",
        "\ty_floor[y_floor >= h-1] = h-1\n",
        "\tx_ceil[x_ceil >= w-1] = w-1\n",
        "\ty_ceil[y_ceil >= h-1] = h-1\n",
        "\n",
        "\tv1 = v[y_floor, x_floor]\n",
        "\tv2 = v[y_floor, x_ceil]\n",
        "\tv3 = v[y_ceil, x_floor]\n",
        "\tv4 = v[y_ceil, x_ceil]\n",
        "\n",
        "\tlh = yq - y_floor\n",
        "\tlw = xq - x_floor\n",
        "\thh = 1 - lh\n",
        "\thw = 1 - lw\n",
        "\n",
        "\tw1 = hh * hw\n",
        "\tw2 = hh * lw\n",
        "\tw3 = lh * hw\n",
        "\tw4 = lh * lw\n",
        "\n",
        "\tinterp_val = v1 * w1 + w2 * v2 + w3 * v3 + w4 * v4\n",
        "\n",
        "\tif dim_input == 2:\n",
        "\t\treturn interp_val.reshape(q_h, q_w)\n",
        "\treturn interp_val"
      ],
      "execution_count": 3,
      "outputs": []
    },
    {
      "cell_type": "markdown",
      "metadata": {
        "id": "UzEw3NbeZuzK"
      },
      "source": [
        "# Canny Edge"
      ]
    },
    {
      "cell_type": "code",
      "metadata": {
        "id": "iXdBYhsG4lzg"
      },
      "source": [
        "# -*- coding: utf-8 -*-\n",
        "\n",
        "import matplotlib.pyplot as plt\n",
        "import os\n",
        "from os import listdir\n",
        "from os.path import isfile, join\n",
        "import sys\n",
        "from cupyx.scipy import signal\n",
        "from PIL import Image\n",
        "import argparse\n",
        "import cv2\n",
        "\n",
        "# import functions\n",
        "# from helpers import interp2\n",
        "\n",
        "\"\"\"# Tests and Visualization\"\"\"\n",
        "def Test_script(I, E):\n",
        "    test_pass = True\n",
        "\n",
        "    # E should be 2D matrix\n",
        "    if E.ndim != 2:\n",
        "      print('ERROR: Incorrect Edge map dimension! \\n')\n",
        "      print(E.ndim)\n",
        "      test_pass = False\n",
        "    # end if\n",
        "\n",
        "    # E should have same size with original image\n",
        "    nr_I, nc_I = I.shape[0], I.shape[1]\n",
        "    nr_E, nc_E = E.shape[0], E.shape[1]\n",
        "\n",
        "    if nr_I != nr_E or nc_I != nc_E:\n",
        "      print('ERROR: Edge map size has changed during operations! \\n')\n",
        "      test_pass = False\n",
        "    # end if\n",
        "\n",
        "    # E should be a binary matrix so that element should be either 1 or 0\n",
        "    numEle = E.size\n",
        "    numOnes, numZeros = E[E == 1].size, E[E == 0].size\n",
        "\n",
        "    if numEle != (numOnes + numZeros):\n",
        "      print('ERROR: Edge map is not binary one! \\n')\n",
        "      test_pass = False\n",
        "    # end if\n",
        "\n",
        "    return test_pass\n",
        "\n",
        "'''\n",
        "  Derivatives visualzation function\n",
        "'''\n",
        "def visDerivatives(I_gray, Mag, Magx, Magy):\n",
        "    fig, (Ax0, Ax1, Ax2, Ax3) = plt.subplots(1, 4, figsize = (20, 8))\n",
        "\n",
        "    Ax0.imshow(Mag, cmap='gray', interpolation='nearest')\n",
        "    Ax0.axis('off')\n",
        "    Ax0.set_title('Gradient Magnitude')\n",
        "\n",
        "    Ax1.imshow(Magx, cmap='gray', interpolation='nearest')\n",
        "    Ax1.axis('off')\n",
        "    Ax1.set_title('Gradient Magnitude (x axis)')\n",
        "    \n",
        "    Ax2.imshow(Magy, cmap='gray', interpolation='nearest')\n",
        "    Ax2.axis('off')\n",
        "    Ax2.set_title('Gradient Magnitude (y axis)')\n",
        "\n",
        "    # plot gradient orientation\n",
        "    Mag_vec = Mag.transpose().reshape(1, Mag.shape[0] * Mag.shape[1]) \n",
        "    hist, bin_edge = cp.histogram(Mag_vec.transpose(), 100)\n",
        "\n",
        "    ind_array = cp.array(cp.where( (cp.cumsum(hist).astype(float) / hist.sum()) < 0.95))\n",
        "    thr = bin_edge[ind_array[0, -1]]\n",
        "\n",
        "    ind_remove = cp.where(cp.abs(Mag) < thr)\n",
        "    Magx[ind_remove] = 0\n",
        "    Magy[ind_remove] = 0\n",
        "\n",
        "    X, Y = cp.meshgrid(cp.arange(0, Mag.shape[1], 1), cp.arange(0, Mag.shape[0], 1))\n",
        "    Ori = cp.arctan2(Magy, Magx)\n",
        "    ori = Ax3.imshow(Ori, cmap='hsv')\n",
        "    Ax3.axis('off')\n",
        "    Ax3.set_title('Gradient Orientation')\n",
        "    fig.colorbar(ori, ax=Ax3, )\n",
        "    \n",
        "\n",
        "\n",
        "'''\n",
        "  Edge detection result visualization function\n",
        "'''\n",
        "def visCannyEdge(Im_raw, M, E):\n",
        "    # plot image\n",
        "    fig, (ax0, ax1, ax2) = plt.subplots(1, 3, figsize = (12, 12))\n",
        "\n",
        "    # plot original image\n",
        "    ax0.imshow(Im_raw)\n",
        "    ax0.axis(\"off\")\n",
        "    ax0.set_title('Raw image')\n",
        "\n",
        "    # plot edge detection result\n",
        "    ax1.imshow(M, cmap='gray', interpolation='nearest')\n",
        "    ax1.axis(\"off\")\n",
        "    ax1.set_title('Non-Max Suppression Result')\n",
        "\n",
        "    # plot original image\n",
        "    ax2.imshow(E, cmap='gray', interpolation='nearest')\n",
        "    ax2.axis(\"off\") \n",
        "    ax2.set_title('Canny Edge Detection')\n",
        "\n",
        "\"\"\"# Functions\"\"\"\n",
        "\n",
        "'''\n",
        "  Convert RGB image to gray one manually\n",
        "  - Input I_rgb: 3-dimensional rgb image\n",
        "  - Output I_gray: 2-dimensional grayscale image\n",
        "'''\n",
        "def rgb2gray(I_rgb):\n",
        "    r, g, b = I_rgb[:, :, 0], I_rgb[:, :, 1], I_rgb[:, :, 2]\n",
        "    I_gray = 0.2989 * r + 0.5870 * g + 0.1140 * b\n",
        "    return I_gray\n",
        "\n",
        "def findDerivatives(I_gray):\n",
        "    '''\n",
        "    File clarification:\n",
        "        Compute gradient information of the input grayscale image\n",
        "        - Input I_gray: H x W matrix as image\n",
        "        - Output Mag: H x W matrix represents the magnitude of derivatives\n",
        "        - Output Magx: H x W matrix represents the magnitude of derivatives along x-axis\n",
        "        - Output Magy: H x W matrix represents the magnitude of derivatives along y-axis\n",
        "        - Output Ori: H x W matrix represents the orientation of derivatives\n",
        "    '''\n",
        "    # TODO: complete function\n",
        "    dx = cp.array([[1, 0, -1], [2, 0, -2], [1, 0, -1]], dtype=np.float)\n",
        "    dy = cp.array([[1, 2, 1], [0, 0, 0], [-1, -2, -1]], dtype=np.float)\n",
        "    G = cp.array([[2, 4, 5, 4, 2],\n",
        "                  [4, 9, 12, 9, 4],\n",
        "                  [5, 12, 15, 12, 5],\n",
        "                  [4, 9, 12, 9, 4],\n",
        "                  [2, 4, 5, 4, 2]], dtype=np.float) / 159.0\n",
        "\n",
        "    # compute G convolve dx and dy respectively\n",
        "    G_dx = signal.convolve2d(G, dx, mode='same')\n",
        "    G_dy = signal.convolve2d(G, dy, mode='same')\n",
        "    # compute Magx and Magy\n",
        "    Magx = signal.convolve2d(I_gray, G_dx, mode='same')\n",
        "    Magy = signal.convolve2d(I_gray, G_dy, mode='same')\n",
        "\n",
        "    # compute Mag and Ori\n",
        "    Mag = cp.sqrt(Magx ** 2 + Magy ** 2)\n",
        "    Ori = cp.arctan2(Magy, Magx)\n",
        "    return Mag, Magx, Magy, Ori\n",
        "\n",
        "def nonMaxSup(Mag, Ori):\n",
        "    '''\n",
        "    File clarification:\n",
        "        Find local maximum edge pixel using NMS along the line of the gradient\n",
        "        - Input Mag: H x W matrix represents the magnitude of derivatives\n",
        "        - Input Ori: H x W matrix represents the orientation of derivatives\n",
        "        - Output M: H x W binary matrix represents the edge map after non-maximum suppression\n",
        "    '''\n",
        "    # get number of columns and rows\n",
        "    nc, nr = Mag.shape[1], Mag.shape[0]\n",
        "    # build meshgrid\n",
        "    x, y = cp.meshgrid(cp.arange(nc), cp.arange(nr))\n",
        "\n",
        "    # find x, y for neighbor in positive gradient orientation\n",
        "    positive_neighbor_x = x + cp.cos(Ori)\n",
        "    positive_neighbor_y = y + cp.sin(Ori)\n",
        "\n",
        "    # find x, y for neighbor in negative gradient orientation\n",
        "    negative_neighbor_x = x - cp.cos(Ori)\n",
        "    negative_neighbor_y = y - cp.sin(Ori)\n",
        "\n",
        "    # get Mag of neighbors in positive gradient orientation\n",
        "    # and replace edge cases with 0\n",
        "    positive_neighbors = interp2(Mag, positive_neighbor_x, positive_neighbor_y)\n",
        "    edge_mask = cp.logical_and(cp.where((positive_neighbor_x > nc-1) | (positive_neighbor_x < 0), 0, 1), \\\n",
        "                               cp.where((positive_neighbor_y > nr-1)|(positive_neighbor_y < 0), 0, 1))\n",
        "    positive_neighbors *= edge_mask\n",
        "\n",
        "    # get Mag of neighbors in negative gradient orientation\n",
        "    # and replace edge cases with 0\n",
        "    negative_neighbors = interp2(Mag, negative_neighbor_x, negative_neighbor_y)\n",
        "    edge_mask = cp.logical_and(cp.where((negative_neighbor_x < 0) | (negative_neighbor_x > nc-1), 0, 1), \\\n",
        "                               cp.where((negative_neighbor_y < 0) | (negative_neighbor_y > nr-1), 0, 1))\n",
        "    negative_neighbors *= edge_mask\n",
        "    \n",
        "    # compare current Mag with its positive and negative neighbors\n",
        "    NMS = cp.logical_and(Mag > positive_neighbors, Mag > negative_neighbors)\n",
        "    return NMS\n",
        "\n",
        "def edgeLink(M, Mag, Ori, low, high):\n",
        "    '''\n",
        "    File clarification:\n",
        "        Use hysteresis to link edges based on high and low magnitude thresholds\n",
        "        - Input M: H x W logical map after non-max suppression\n",
        "        - Input Mag: H x W matrix represents the magnitude of gradient\n",
        "        - Input Ori: H x W matrix represents the orientation of gradient\n",
        "        - Input low, high: low and high thresholds \n",
        "        - Output E: H x W binary matrix represents the final canny edge detection map\n",
        "    '''\n",
        "    # get number of columns and rows\n",
        "    # build meshgrid\n",
        "    nc, nr = Mag.shape[1], Mag.shape[0]\n",
        "    x, y = cp.meshgrid(cp.arange(nc), cp.arange(nr))\n",
        "\n",
        "    # suppress pixels whose magnitude is lower than low threshold\n",
        "    weak_mask = cp.where(Mag > low, 1, 0)\n",
        "    Mag = Mag * weak_mask * M\n",
        "    # initial EdgeMap with strong edges\n",
        "    strong_mask = cp.where(Mag > high, 1, 0)\n",
        "    edge_map = M * strong_mask\n",
        "    # compute the edge direction from Ori\n",
        "    edge_ori = Ori + cp.pi/2\n",
        "    # find neighbors in the edge direction\n",
        "    positive_neighbor_x = x + cp.cos(edge_ori)\n",
        "    positive_neighbor_y = y + cp.sin(edge_ori)\n",
        "\n",
        "    negative_neighbor_x = x - cp.cos(edge_ori)\n",
        "    negative_neighbor_y = y - cp.sin(edge_ori)\n",
        "    prev = cp.zeros([nr, nc])\n",
        "    # try to link weak edges to strong edges until there is no change\n",
        "    while (not cp.allclose(prev, edge_map)):\n",
        "      # get Mag of neighbor in positive edge orientation\n",
        "      # and deal with out of boundary cases\n",
        "      positive_neighbors = interp2(Mag, positive_neighbor_x, positive_neighbor_y)\n",
        "      edge_mask = cp.logical_and(cp.where((positive_neighbor_x > nc-1) | (positive_neighbor_x < 0), 0, 1), \\\n",
        "                               cp.where((positive_neighbor_y > nr-1)|(positive_neighbor_y\n",
        "                                                                                                                                                 < 0), 0, 1))\n",
        "      positive_neighbors *= edge_mask\n",
        "      # get Mag of neighbor in negative edge orientation\n",
        "      # and deal with out of boundary cases\n",
        "      negative_neighbors = interp2(Mag, negative_neighbor_x, negative_neighbor_y)\n",
        "      edge_mask = cp.logical_and(cp.where((negative_neighbor_x < 0) | (negative_neighbor_x > nc-1), 0, 1), \\\n",
        "                               cp.where((negative_neighbor_y < 0) | (negative_neighbor_y > nr-1), 0, 1))\n",
        "      negative_neighbors *= edge_mask\n",
        "\n",
        "      # find new edge points and suppress invalid ones (not in M or not in weak edges)\n",
        "      new_edge_points = cp.logical_or(cp.where(positive_neighbors > high, 1, 0), \\\n",
        "                                      cp.where(negative_neighbors > high, 1, 0)) * weak_mask * M\n",
        "      # update Mag values for new edge points\n",
        "      Mag += new_edge_points * 20\n",
        "      # update prev edge map\n",
        "      prev = edge_map\n",
        "      # update cur edge map\n",
        "      edge_map = cp.logical_or(edge_map, new_edge_points)\n",
        "    \n",
        "    return cp.asarray(edge_map, dtype=bool)\n",
        "\n",
        "def cannyEdge(I, low, high):\n",
        "    # convert RGB image to gray color space\n",
        "    im_gray = rgb2gray(I)\n",
        "\n",
        "    Mag, Magx, Magy, Ori = findDerivatives(im_gray)\n",
        "    M = nonMaxSup(Mag, Ori)\n",
        "    E = edgeLink(M, Mag, Ori, low, high)\n",
        "\n",
        "    # only when test passed that can show all results\n",
        "    # if Test_script(im_gray, E):\n",
        "        # visualization results\n",
        "        # visDerivatives(im_gray, Mag, Magx, Magy)\n",
        "        # visCannyEdge(I, M, E)\n",
        "\n",
        "        # plt.show()\n",
        "\n",
        "    return E\n",
        "\n",
        "\n"
      ],
      "execution_count": 9,
      "outputs": []
    },
    {
      "cell_type": "markdown",
      "metadata": {
        "id": "tyjfnNiCZoZ8"
      },
      "source": [
        "# Hough Transform"
      ]
    },
    {
      "cell_type": "code",
      "metadata": {
        "id": "h-pViMSG3uLp"
      },
      "source": [
        "def crop_image(img, vertices):\n",
        "    # crop the image except the lower part that contains the edges\n",
        "    mask = np.zeros((img.shape[0], img.shape[1]))\n",
        "    cv2.fillPoly(mask, [vertices], 1)\n",
        "    masked_img = np.multiply(img, mask)\n",
        "    return masked_img"
      ],
      "execution_count": 74,
      "outputs": []
    },
    {
      "cell_type": "code",
      "metadata": {
        "id": "ET0zfEXUXU2e"
      },
      "source": [
        "def hough_transform(cropped_img, original_img):\n",
        "    # apply hough transform to determine two straight edges\n",
        "    edge = cv2.HoughLinesP(cropped_img, \n",
        "                           rho=1, \n",
        "                           theta=np.pi/180, \n",
        "                           threshold=50, \n",
        "                           lines=np.array([]), \n",
        "                           minLineLength=250, \n",
        "                           maxLineGap=200)\n",
        "    \n",
        "    hough_img = np.zeros((cropped_img.shape[0], cropped_img.shape[1], 3), dtype=np.uint8)\n",
        "    left_edge_x = []\n",
        "    left_edge_y = []\n",
        "    right_edge_x = []\n",
        "    right_edge_y = []\n",
        "    for i in edge:\n",
        "        for x1, y1, x2, y2 in i:\n",
        "            if x2 == x1:\n",
        "                continue\n",
        "            slope = (y2 - y1)/(x2 - x1)\n",
        "            if (slope <= 0):\n",
        "                left_edge_x.extend([x1, x2])\n",
        "                left_edge_y.extend([y1, y2])\n",
        "            else:\n",
        "                right_edge_x.extend([x1, x2])\n",
        "                right_edge_y.extend([y1, y2])\n",
        "    # fit the left edges and right edges to get single left and right edge\n",
        "    poly_left = np.poly1d(np.polyfit(left_edge_y, left_edge_x, deg=1))\n",
        "    poly_right = np.poly1d(np.polyfit(right_edge_y, right_edge_x, deg=1))\n",
        "    y_bot = int(cropped_img.shape[0] - 1)\n",
        "    y_top = int(cropped_img.shape[0] / 3 - 1)\n",
        "    x_left_bot = int(poly_left(y_bot))\n",
        "    x_left_top = int(poly_left(y_top))\n",
        "    x_right_bot = int(poly_right(y_bot))\n",
        "    x_right_top = int(poly_right(y_top))\n",
        "    # cv2.line(hough_img, (x1, y1), (x2, y2), [255, 0, 0], 4)\n",
        "    # draw the left and right edge on the image\n",
        "\n",
        "    \n",
        "    cv2.line(hough_img, (x_left_bot, y_bot), (x_left_top, y_top), [255, 0, 0], 4)\n",
        "    cv2.line(hough_img, (x_right_bot, y_bot), (x_right_top, y_top), [255, 0, 0], 4)\n",
        "\n",
        "    hough_gray = cv2.cvtColor(hough_img, cv2.COLOR_BGR2GRAY)\n",
        "    ret, mask = cv2.threshold(hough_gray, 10, 255, cv2.THRESH_BINARY)\n",
        "    mask_inv = cv2.bitwise_not(mask)\n",
        "\n",
        "    original_img = cv2.bitwise_and(original_img, original_img, mask = mask_inv)\n",
        "\n",
        "    combine_img = cv2.addWeighted(hough_img, 1.0, original_img, 1.0, 0.0)\n",
        "    return combine_img"
      ],
      "execution_count": 96,
      "outputs": []
    },
    {
      "cell_type": "markdown",
      "metadata": {
        "id": "MJY-ViYYaDOq"
      },
      "source": [
        "# Process Images in specific folder"
      ]
    },
    {
      "cell_type": "code",
      "metadata": {
        "id": "ol2W2OCR2sgx"
      },
      "source": [
        "def processAllFilesInFolder(file_folder):\n",
        "    image_folder = \"Test_Images/\" + file_folder\n",
        "    save_folder = \"Results/\" + file_folder  # need to create this folder in the drive\n",
        "\n",
        "    if not os.path.exists(save_folder):\n",
        "        os.makedirs(save_folder)\n",
        "\n",
        "    test_files = [f for f in listdir(image_folder) if isfile(join(image_folder, f))]\n",
        "    test_files = sorted(test_files)\n",
        "    for file in test_files:\n",
        "        # tuning threshold for simple test images\n",
        "        print(\"Processing \" + file)\n",
        "        filename = file # TODO: change image name\n",
        "        I = cp.array(Image.open(os.path.join(image_folder, filename)).convert('RGB'))\n",
        "        I1 = np.array(Image.open(os.path.join(image_folder, filename)).convert('RGB'))\n",
        "        low, high = 40, 100\n",
        "        E = cannyEdge(I, low, high)\n",
        "\n",
        "        # edge_image = Image.fromarray(cp.asnumpy(E.astype(cp.uint8)) * 255).convert('L')\n",
        "        # edge_image.save(os.path.join(save_folder, \"{}_edge.png\".format(filename.split(\".\")[0])))\n",
        "\n",
        "        pil_image = cp.asnumpy(E.astype(cp.uint8)) * 255\n",
        "\n",
        "        # crop the image\n",
        "        vertices = np.array([[0, pil_image.shape[0] - 2],\n",
        "                             [pil_image.shape[1] / 2 - 1, pil_image.shape[0] / 4 - 1],\n",
        "                             [pil_image.shape[1] - 2, pil_image.shape[0] - 2]], np.int32)\n",
        "        cropped_image = crop_image(pil_image, vertices)\n",
        "\n",
        "        # implement hough transform\n",
        "        hough_image = hough_transform(cropped_image.astype(np.uint8), I1)\n",
        "        hough_image = Image.fromarray(hough_image.astype(np.uint8))\n",
        "        # save the image\n",
        "        hough_image.save(os.path.join(save_folder, \"{}_Result.png\".format(filename.split(\".\")[0])))"
      ],
      "execution_count": 92,
      "outputs": []
    },
    {
      "cell_type": "markdown",
      "metadata": {
        "id": "0WTvo5qzamBv"
      },
      "source": [
        "# Main"
      ]
    },
    {
      "cell_type": "code",
      "metadata": {
        "id": "mG1nZSLcc-zl"
      },
      "source": [
        "processAllFilesInFolder(\"0530_10frame/10\")"
      ],
      "execution_count": null,
      "outputs": []
    },
    {
      "cell_type": "markdown",
      "metadata": {
        "id": "pjoh88tK0Fn6"
      },
      "source": [
        "# Make Video"
      ]
    },
    {
      "cell_type": "code",
      "metadata": {
        "id": "gzHangCB0D-G"
      },
      "source": [
        "file_folder = \"0530_10frame/9/\"\n",
        "save_folder = \"Results/\" + file_folder\n",
        "\n",
        "img = cv2.imread(save_folder + '1_Result.png')\n",
        "height, width, channels = img.shape\n",
        "\n",
        "fourcc = cv2.VideoWriter_fourcc(*'mp4v') \n",
        "video = cv2.VideoWriter(save_folder + 'video.mp4', fourcc, 10, (width,height))\n",
        "\n",
        "for i in range(1,21):\n",
        "    img = cv2.imread(save_folder + str(i)+'_Result.png')\n",
        "    video.write(img)\n",
        "\n",
        "cv2.destroyAllWindows()\n",
        "video.release()"
      ],
      "execution_count": 140,
      "outputs": []
    }
  ]
}